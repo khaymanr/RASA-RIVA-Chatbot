{
 "cells": [
  {
   "cell_type": "markdown",
   "id": "a86d88e7-5eca-4cb1-9b78-629632e2badb",
   "metadata": {},
   "source": [
    "# Intents and More (Code)"
   ]
  },
  {
   "cell_type": "code",
   "execution_count": null,
   "id": "1a4fc809-17c3-47b0-9b80-838b06674a26",
   "metadata": {},
   "outputs": [],
   "source": []
  },
  {
   "cell_type": "markdown",
   "id": "3dd77ba4-9858-43d0-ba27-f8a3ec2aa5e8",
   "metadata": {},
   "source": [
    "## Intents"
   ]
  },
  {
   "cell_type": "code",
   "execution_count": 1,
   "id": "93271726-125f-4457-8f1d-544be4ae0735",
   "metadata": {},
   "outputs": [
    {
     "ename": "SyntaxError",
     "evalue": "invalid syntax (2463259185.py, line 3)",
     "output_type": "error",
     "traceback": [
      "\u001b[1;36m  Input \u001b[1;32mIn [1]\u001b[1;36m\u001b[0m\n\u001b[1;33m    nlu:\u001b[0m\n\u001b[1;37m        ^\u001b[0m\n\u001b[1;31mSyntaxError\u001b[0m\u001b[1;31m:\u001b[0m invalid syntax\n"
     ]
    }
   ],
   "source": [
    "version: \"3.1\"\n",
    "\n",
    "nlu:\n",
    "- intent: start\n",
    "  examples: |\n",
    "    - begin\n",
    "    - start\n",
    "    - let's go\n",
    "    - start inspection\n",
    "    - begin inspection\n",
    "    - initiate\n",
    "    - les go\n",
    "\n",
    "- intent: finish\n",
    "  examples: |\n",
    "    - finish\n",
    "    - end\n",
    "    - inspection over\n",
    "    - finsh\n",
    "    - done\n",
    "    - over and out\n",
    "    - exit\n",
    "    - over n out\n",
    "    - bye\n",
    "    - goodbye\n",
    "    \n",
    "- intent: mast_wood\n",
    "  examples: |\n",
    "    - Bird's nest\n",
    "    - Strange body\n",
    "    - Circuit signing\n",
    "    - Bird nest\n",
    "    - Structure diagonals\n",
    "    - Diagonal\n",
    "    - Chain \n",
    "    \n",
    "- intent: mast_metal\n",
    "  examples: |\n",
    "    - Structures in the way\n",
    "    - Vegetation in the protective strip\n",
    "    - Current loop\n",
    "    - Other maintenance area\n",
    "    - Other area\n",
    "    - Vegetation in the way\n",
    "    - Structure\n",
    "\n",
    "- intent: cable\n",
    "  examples: |\n",
    "    - Cable damage\n",
    "    - Damage\n",
    "    "
   ]
  },
  {
   "cell_type": "markdown",
   "id": "f66a6593-b060-462d-89f8-dc83e9192925",
   "metadata": {},
   "source": [
    "## Stories"
   ]
  },
  {
   "cell_type": "code",
   "execution_count": null,
   "id": "5b0652d5-5405-4f66-a842-789f2b4fe58e",
   "metadata": {},
   "outputs": [],
   "source": [
    "version: \"3.1\"\n",
    "\n",
    "stories:\n",
    "    \n",
    "- story: wooden mast\n",
    "  steps:\n",
    "  - intent: start\n",
    "  - action: utter_start\n",
    "  - "
   ]
  },
  {
   "cell_type": "markdown",
   "id": "b0713c28-8640-4a2e-a2a7-fb8afe9504d4",
   "metadata": {},
   "source": [
    "## Rules"
   ]
  },
  {
   "cell_type": "code",
   "execution_count": null,
   "id": "01495ca9-bf37-4cac-b035-07584fb7767c",
   "metadata": {},
   "outputs": [],
   "source": [
    "version: \"3.1\"\n",
    "\n",
    "rules:\n",
    "\n",
    "- rule: Starting the wooden mast form\n",
    "  steps:\n",
    "  - intent: start\n",
    "  - action: inspection_form\n",
    "  - active_loop: inspection form"
   ]
  },
  {
   "cell_type": "markdown",
   "id": "9cf50a0d-3d57-4bf8-833c-0744a4b91b60",
   "metadata": {},
   "source": [
    "## Domain"
   ]
  },
  {
   "cell_type": "code",
   "execution_count": null,
   "id": "7ae55c1f-3965-4269-88da-445b8fdf5749",
   "metadata": {},
   "outputs": [],
   "source": [
    "version: \"3.1\"\n",
    "\n",
    "intents:\n",
    "  - start\n",
    "  - finish\n",
    "  - mast_metal\n",
    "  - mast_wood\n",
    "  - cable\n",
    "\n",
    "responses:\n",
    "  utter_start:\n",
    "  - text: \"Hey! How are you?\"\n",
    "\n",
    "  utter_finish:\n",
    "  - text: \"Here is something to cheer you up:\"\n",
    "\n",
    "  utter_mastmetal:\n",
    "  - text: \"Did that help you?\"\n",
    "\n",
    "  utter_mastwood:\n",
    "  - text: \"Great, carry on!\"\n",
    "\n",
    "  utter_cable:\n",
    "  - text: \"Great, carry on!\"\n",
    "\n",
    "\n",
    "session_config:\n",
    "  session_expiration_time: 60\n",
    "  carry_over_slots_to_new_session: true"
   ]
  },
  {
   "cell_type": "markdown",
   "id": "535918cf-9763-4e1c-a4f5-6522a327d040",
   "metadata": {},
   "source": [
    "## Example Dialog"
   ]
  },
  {
   "cell_type": "markdown",
   "id": "06d60342-202a-4037-9dcd-7d77427c4354",
   "metadata": {},
   "source": [
    "- Start inspection\n",
    "\n",
    "* _Starting inspection..._\n",
    "\n",
    "* _You can start describing the problem and location sequentially_\n",
    "\n",
    "- Bird's nest on [upper right diagonal](location)\n",
    "\n",
    "* _Understood, next._\n",
    "\n",
    "- [Middle diagonal](location) is damaged\n",
    "\n",
    "* _Registered._\n",
    "\n",
    "- Cable damage on [upper right](location)\n",
    "\n",
    "* _Copy, moving on.._\n",
    "\n",
    "- Current loop in second diagonal, [left](location)\n",
    "\n",
    "* _Understood._\n",
    "\n",
    "- Finish assessment\n",
    "\n",
    "* _Saving results... done!_"
   ]
  },
  {
   "cell_type": "code",
   "execution_count": null,
   "id": "19cd896c-d84f-4bb5-9850-697355c9086a",
   "metadata": {},
   "outputs": [],
   "source": []
  }
 ],
 "metadata": {
  "kernelspec": {
   "display_name": "chatbot",
   "language": "python",
   "name": "python3"
  },
  "language_info": {
   "codemirror_mode": {
    "name": "ipython",
    "version": 3
   },
   "file_extension": ".py",
   "mimetype": "text/x-python",
   "name": "python",
   "nbconvert_exporter": "python",
   "pygments_lexer": "ipython3",
   "version": "3.8.15 (default, Nov  4 2022, 15:16:59) [MSC v.1916 64 bit (AMD64)]"
  },
  "vscode": {
   "interpreter": {
    "hash": "245036b48f9cd419869bafcd08317b064c7ce0f3181bf0cda961f573aa98b7f3"
   }
  }
 },
 "nbformat": 4,
 "nbformat_minor": 5
}
