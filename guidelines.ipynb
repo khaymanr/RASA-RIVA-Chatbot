{
 "cells": [
  {
   "cell_type": "markdown",
   "id": "8fc133a6-75ec-4def-9930-d716684ec926",
   "metadata": {},
   "source": [
    "# Guidelines For Chatbot Development"
   ]
  },
  {
   "cell_type": "code",
   "execution_count": null,
   "id": "e67230d7-f3a0-4fe6-b563-620ba1460e8e",
   "metadata": {},
   "outputs": [],
   "source": []
  },
  {
   "cell_type": "markdown",
   "id": "64ba7ffd-8704-4447-b508-928511b076cb",
   "metadata": {},
   "source": [
    "**Description of the problem can be found below (translated):**"
   ]
  },
  {
   "cell_type": "markdown",
   "id": "c0b3f5c5-2516-4b9e-bc10-8188ff105ada",
   "metadata": {},
   "source": [
    "It's about the topic \"Speech to Text\".\n",
    "\n",
    "* Problem situation and context: Overhead lines have to be flown over at a certain rhythm and inspected for damage. The documentation of the inspection results is complex. For example, when flying over overhead lines, two fitters must fly along with the pilot. The two fitters check the components, with one of the two fitters also taking on the documentation.  \n",
    "\n",
    "User story: As a fitter, I want to keep the effort involved in documenting inspections as low as possible while maintaining high quality. If, for example, both fitters carry out the visual inspections and the documentation is automated, the quality can be increased with less time.\n",
    "\n",
    "Possible solutions and ideas (if available, including example startups):\n",
    "\n",
    "1.  “speech to text”. When inspecting overhead lines, the fitters speak the damage reports live into a microphone. The necessary systems are filled via voice input (\"FM Check\").  \n",
    "\n",
    "The fitters have around 20-30 seconds to inspect each pylon.\n",
    "The overhead line survey is only a \"proof of concept\". There are other use cases where \"speech to text\" supports the technicians. When climbing pylons, for example, the fitters enter the results after climbing the pylon. With speech to text, the documentation can be done live and work safety is still guaranteed because the fitters have both hands free.\n",
    "\n",
    "The input mask of the special software looks like this:"
   ]
  },
  {
   "cell_type": "markdown",
   "id": "a7a1c948-112a-4deb-a399-a064c99dfeff",
   "metadata": {},
   "source": [
    "![Image](E:\\GitHub_Projects_SHK\\chatbot\\images\\image001.png)"
   ]
  },
  {
   "cell_type": "markdown",
   "id": "bb749769-e229-4e20-a299-8c8f5be7b9af",
   "metadata": {},
   "source": [
    "**PROBLEMS DESCRIBED ABOVE**  \n",
    "  \n",
    "* **Left Block (Current Mast):**\n",
    "    - Bird's nest\n",
    "    - Strange body\n",
    "    - Circuit signing\n",
    "    - Structure diagonals\n",
    "    - Chain\n",
    "    - \n",
    "* **Middle Block (Cables inbetween):**\n",
    "    - Cable damage\n",
    "    - \n",
    "* **Right Block (Next Mast):**\n",
    "    - Structural facilities in route\n",
    "    - Conduit vegetation in the protective strip\n",
    "    - Current loop\n",
    "    - Other maintenance area\n",
    "    - "
   ]
  },
  {
   "cell_type": "markdown",
   "id": "30bcd8ed-c3a2-4bcd-9f62-eae36b64161f",
   "metadata": {},
   "source": [
    "## Chatbot Draft"
   ]
  },
  {
   "cell_type": "markdown",
   "id": "63e4f0b1-d21e-4283-ba41-4c778ec40601",
   "metadata": {},
   "source": [
    "**Intents:**  \n",
    "  \n",
    "* Mast Type 1 (ex. wooden mast)\n",
    "* Cables (connecting the two)\n",
    "* Mast Type 2 (ex. metal mast)"
   ]
  },
  {
   "cell_type": "markdown",
   "id": "ce870163-ccde-449d-802c-474975a6a8e9",
   "metadata": {},
   "source": [
    "**Observations:**\n",
    "* Each intent would take the dialog to a different path on the premise that the types have different noteworthy problems that affect the flow of the conversation.  \n",
    "* Maybe have different lookup tables for each type, if possible/meaningful.\n",
    "* There needs to be a way to enforce the sequence current mast -> connecting cables -> next mast. \n",
    "* Use entities to take the location of the problems (spaCy)."
   ]
  },
  {
   "attachments": {},
   "cell_type": "markdown",
   "id": "030890aa-00df-4478-a1bf-25bc14d162a7",
   "metadata": {},
   "source": [
    "## Questions:"
   ]
  },
  {
   "attachments": {},
   "cell_type": "markdown",
   "id": "79e7dff7",
   "metadata": {},
   "source": [
    "* Is it really necessary to have the bot identify the type of mast (if any)? The issues could all just be coupled together and the mast be identified by its number (like it's probably already gonna be done anyways since a form has to be filled out with the results of the inspection)"
   ]
  }
 ],
 "metadata": {
  "kernelspec": {
   "display_name": "Python 3 (ipykernel)",
   "language": "python",
   "name": "python3"
  },
  "language_info": {
   "codemirror_mode": {
    "name": "ipython",
    "version": 3
   },
   "file_extension": ".py",
   "mimetype": "text/x-python",
   "name": "python",
   "nbconvert_exporter": "python",
   "pygments_lexer": "ipython3",
   "version": "3.8.15"
  }
 },
 "nbformat": 4,
 "nbformat_minor": 5
}
