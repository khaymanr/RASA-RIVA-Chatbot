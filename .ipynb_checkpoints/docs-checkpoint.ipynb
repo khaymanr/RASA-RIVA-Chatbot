{
 "cells": [
  {
   "cell_type": "markdown",
   "id": "5fd290e0-3152-4253-b5bf-b40338e6273b",
   "metadata": {},
   "source": [
    "# Demo Setup Documentation"
   ]
  },
  {
   "cell_type": "code",
   "execution_count": null,
   "id": "a2b26575-6a6f-41f4-9715-459405476cb1",
   "metadata": {},
   "outputs": [],
   "source": []
  },
  {
   "cell_type": "markdown",
   "id": "9f355875-c45e-46ea-8d28-dac05fd67a4f",
   "metadata": {},
   "source": [
    "This a document intended to briefly explain the process and some of the hiccups encountered when setting up the NVIDIA Rasa/Riva weather chatbot."
   ]
  },
  {
   "cell_type": "markdown",
   "id": "b4be0d6f-ef5b-4900-a537-c4be78aa3ea9",
   "metadata": {},
   "source": [
    "The idea was to setup the bot to test the basic functionalities of Rasa/Riva, easiness of setup, use, and response times."
   ]
  },
  {
   "cell_type": "markdown",
   "id": "8c612e2b-9c10-43c4-9658-9744e2fdf159",
   "metadata": {},
   "source": [
    "The setup was done following the instructions at <https://docs.nvidia.com/deeplearning/riva/user-guide/docs/samples/sample-apps/virtual-assistant-rasa/README.html>, with some changes as the article seems to be a little outdated and some packages are changed or deprecated."
   ]
  },
  {
   "cell_type": "markdown",
   "id": "84c7801c-f263-44c9-8e9d-15c4a100da99",
   "metadata": {},
   "source": [
    "### Basic Setup for Installation"
   ]
  },
  {
   "cell_type": "markdown",
   "id": "2d3a46b7-6e82-4147-8f4a-87711693d5b1",
   "metadata": {},
   "source": [
    "For the basic setup a couple things had to be setup prior to the chatbot setup, such as:  \n",
    "* Setting up an NVIDIA NGC account, since we need the API key to retrieve some of the resources necessary (available in <https://ngc.nvidia.com/setup>);  \n",
    "* Creating a Weatherstack account to retrieve an API key that will be used to access the weather data (available in <https://weatherstack.com/dashboard?logged_in=1>)."
   ]
  },
  {
   "cell_type": "markdown",
   "id": "44dca40f-5f7f-4d4b-af5a-0cd7e1c936ae",
   "metadata": {},
   "source": [
    "With that done, it was needed to install some necessary dependencies, mainly:  \n",
    "* Anaconda for setting up the virtual environment(s);\n",
    "* Docker to download the images and containers necessary for the Riva server to work properly."
   ]
  },
  {
   "cell_type": "markdown",
   "id": "c2e425ed-86ae-4935-932f-a6fa2da6d188",
   "metadata": {},
   "source": [
    "With all the prerequisites fullfilled we could start setting up the chatbot."
   ]
  },
  {
   "cell_type": "markdown",
   "id": "77a06118-504c-4ead-bad1-a6d26e28a44b",
   "metadata": {},
   "source": [
    "### Initial Setup"
   ]
  },
  {
   "cell_type": "markdown",
   "id": "eba4ffcf-29c3-4cf9-a63a-b1927e435936",
   "metadata": {},
   "source": [
    "The repository containing the chatbot files was cloned into the machine <https://github.com/nvidia-riva/sample-apps/tree/sven-update-riva-api-calls/virtual-assistant>, and the branch <code>sven-update-riva-api-calls</code> activated. This specific branch had to be used due to a problem in the latest stages of setup, where a deprecated module was called. The issue seems to be fixed in this branch (according to <https://forums.developer.nvidia.com/t/about-pip3-install-riva-api-2-8-1-py3-none-any-whl/239312/5>)."
   ]
  },
  {
   "cell_type": "markdown",
   "id": "b6685c1c-7c11-46de-9193-83e0aed2e4b0",
   "metadata": {},
   "source": [
    "After cloning the repository, we moved inside it to <code>sample-apps/virtual-assistant-rasa</code>, and anaconda was used to setup an environment in the <code>./pythonenvs/virtual-assistant</code>, specifying <code>python==3.8</code> because of compatibility issues between the dependencies necessary and newer Python versions."
   ]
  },
  {
   "cell_type": "markdown",
   "id": "7aaf9930-e847-421d-87c6-0a7c6ab1e2f5",
   "metadata": {},
   "source": [
    "After activating the environment, required dependencies were installed from <code>requirements.txt</code>, contained in the repository files, and <code>nvidia-riva-client</code> installed using <code>pip</code>. This was required as a replacement for the deprecated <code>riva_api</code> module."
   ]
  },
  {
   "cell_type": "markdown",
   "id": "ce8fedaa-794b-44a6-aa22-94be000caeb0",
   "metadata": {},
   "source": [
    "### Riva Server Initialization"
   ]
  },
  {
   "cell_type": "markdown",
   "id": "2b409488-2c25-449d-a86c-68bddfca8029",
   "metadata": {},
   "source": [
    "To setup and install Riva, as described in the NVIDIA Quickstart Guide (available in <https://docs.nvidia.com/deeplearning/riva/user-guide/docs/quick-start-guide.html>), we need to download the Riva quickstart file and run <code>riva_init.sh</code>, so the necessary Docker containers can be downloaded."
   ]
  },
  {
   "cell_type": "markdown",
   "id": "f3566665-1652-464c-8d2f-08a8d8053608",
   "metadata": {},
   "source": [
    "With that done it's time to start the server with <code>riva_start.sh</code>."
   ]
  },
  {
   "cell_type": "markdown",
   "id": "ae05b46e-bb7b-48d2-8f66-88df7c940469",
   "metadata": {},
   "source": [
    "### Starting the Web Application"
   ]
  },
  {
   "cell_type": "markdown",
   "id": "3a70e02d-53be-4841-81f2-1935420e0c31",
   "metadata": {},
   "source": [
    "To start the web application, the virtual environment needs to be activated using <code>conda activate</code>. After that all that's left is to run <code>main.py</code> to start the app."
   ]
  },
  {
   "cell_type": "markdown",
   "id": "308b78da-3821-4ca9-b9c1-b8284c076fea",
   "metadata": {},
   "source": [
    "The web application can then be accessed through <code>https://[machine_ip]:[port]/rivaWeather</code>"
   ]
  },
  {
   "cell_type": "markdown",
   "id": "45fc32cb-59d8-4130-a667-236a5c1da650",
   "metadata": {},
   "source": [
    "### Comments and Issues"
   ]
  },
  {
   "cell_type": "markdown",
   "id": "936b3afd-394e-400b-9b01-d0312f2d5d3b",
   "metadata": {},
   "source": [
    "* The NVIDIA NGC API key has to be generated again every time it logs you out from the website, as opposed to the Weatherstack key;\n",
    "* There were some compatibility problems between dependencies (specially protobuf);"
   ]
  },
  {
   "cell_type": "code",
   "execution_count": null,
   "id": "8c566381-acef-422f-8ed2-16d733cfc1ab",
   "metadata": {},
   "outputs": [],
   "source": []
  }
 ],
 "metadata": {
  "kernelspec": {
   "display_name": "Python 3 (ipykernel)",
   "language": "python",
   "name": "python3"
  },
  "language_info": {
   "codemirror_mode": {
    "name": "ipython",
    "version": 3
   },
   "file_extension": ".py",
   "mimetype": "text/x-python",
   "name": "python",
   "nbconvert_exporter": "python",
   "pygments_lexer": "ipython3",
   "version": "3.8.15"
  }
 },
 "nbformat": 4,
 "nbformat_minor": 5
}
